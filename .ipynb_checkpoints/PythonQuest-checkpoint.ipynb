{
 "cells": [
  {
   "cell_type": "code",
   "execution_count": 1,
   "id": "35a83232-4b00-42b1-9734-f085b87859a4",
   "metadata": {},
   "outputs": [
    {
     "name": "stdout",
     "output_type": "stream",
     "text": [
      "Total de palavras: 69\n"
     ]
    }
   ],
   "source": [
    "lorem_ipsum_text = \"\"\"Lorem ipsum dolor sit amet, consectetur adipiscing elit, sed do eiusmod\n",
    "tempor incididunt ut labore et dolore magna aliqua. Ut enim ad minim\n",
    "veniam, quis nostrud exercitation ullamco laboris nisi ut aliquip ex ea\n",
    "commodo consequat. Duis aute irure dolor in reprehenderit in voluptate\n",
    "velit esse cillum dolore eu fugiat nulla pariatur. Excepteur sint\n",
    "occaecat cupidatat non proident, sunt in culpa qui officia deserunt\n",
    "mollit anim id est laborum.\"\"\"\n",
    "#comentário\n",
    "\n",
    "with open(\"lorem_ipsum.txt\", \"w\") as file:\n",
    "    file.write(lorem_ipsum_text)\n",
    "    \n",
    "with open(\"lorem_ipsum.txt\", \"r\") as file:\n",
    "    content = file.read()\n",
    "    word_count = len(content.split())\n",
    "    \n",
    "print(f\"Total de palavras: {word_count}\")\n",
    "\n",
    "with open(\"word_count.txt\", \"w\") as file:\n",
    "    file.write(f\"Total de palavras: {word_count}\")\n"
   ]
  },
  {
   "cell_type": "code",
   "execution_count": 8,
   "id": "699aef96-b591-4024-80b4-ccacc0549724",
   "metadata": {},
   "outputs": [
    {
     "name": "stdout",
     "output_type": "stream",
     "text": [
      "Depósito de 500.0 realizado com sucesso. Saldo atual: 500.0\n",
      "Saque de 200.0 realizado com sucesso. Saldo atual: 300.0\n",
      "Saldo insuficiente ou valor de saque inválido.\n"
     ]
    }
   ],
   "source": [
    "class ContaBancaria:\n",
    "    def __init__(self, titular, numero):\n",
    "        self.titular = titular\n",
    "        self.saldo = 0.0\n",
    "        self.numero = numero\n",
    "\n",
    "    def depositar(self, valor):\n",
    "        if valor > 0:\n",
    "            self.saldo += valor\n",
    "            print(f\"Depósito de {valor} realizado com sucesso. Saldo atual: {self.saldo}\")\n",
    "        else:\n",
    "            print(\"Valor de depósito inválido.\")\n",
    "\n",
    "    def sacar(self, valor):\n",
    "        if valor > 0 and self.saldo >= valor:\n",
    "            self.saldo -= valor\n",
    "            print(f\"Saque de {valor} realizado com sucesso. Saldo atual: {self.saldo}\")\n",
    "        else:\n",
    "            print(\"Saldo insuficiente ou valor de saque inválido.\")\n",
    "\n",
    "# Criando uma conta bancária\n",
    "conta = ContaBancaria(\"João Silva\", 123456)\n",
    "\n",
    "# Realizando operações na conta\n",
    "conta.depositar(500.0)\n",
    "conta.sacar(200.0)\n",
    "conta.sacar(1000.0)  # Tentativa de saque com saldo insuficiente\n"
   ]
  },
  {
   "cell_type": "code",
   "execution_count": 14,
   "id": "60cb1bfc-76aa-48d4-b8ae-aaacc2f46eef",
   "metadata": {},
   "outputs": [
    {
     "name": "stdout",
     "output_type": "stream",
     "text": [
      "Salário de David aumentado em 10%. Novo salário: 3300.0\n",
      "Salário de Eve aumentado em 15%. Novo salário: 4025.0\n",
      "Salário de Frank aumentado em 5%. Novo salário: 2625.0\n"
     ]
    }
   ],
   "source": [
    "class Pessoa:\n",
    "    def __init__(self, nome, email=None, telefone=None):\n",
    "        self.nome = nome\n",
    "        self.email = email\n",
    "        self.telefone = telefone\n",
    "\n",
    "    def __str__(self):\n",
    "        return f\"Nome: {self.nome}, Email: {self.email}, Telefone: {self.telefone}\"\n",
    "\n",
    "class Funcionario(Pessoa):\n",
    "    def __init__(self, nome, salario, cargo, email=None, telefone=None):\n",
    "        super().__init__(nome, email, telefone)\n",
    "        self.salario = salario\n",
    "        self.cargo = cargo\n",
    "\n",
    "    def aumentar_salario(self, percentual):\n",
    "        if percentual > 0:\n",
    "            self.salario += self.salario * (percentual / 100)\n",
    "            print(f\"Salário de {self.nome} aumentado em {percentual}%. Novo salário: {self.salario}\")\n",
    "        else:\n",
    "            print(\"Percentual de aumento inválido.\")\n",
    "\n",
    "    def __str__(self):\n",
    "        return f\"{super().__str__()}, Cargo: {self.cargo}, Salário: {self.salario}\"\n",
    "\n",
    "# Instanciando objetos de Pessoa\n",
    "p1 = Pessoa(\"Alice\", \"alice@example.com\")\n",
    "p2 = Pessoa(\"Bob\")\n",
    "p3 = Pessoa(\"Charlie\", telefone=\"123456789\")\n",
    "\n",
    "\n",
    "# Instanciando objetos de Funcionario\n",
    "f1 = Funcionario(\"David\", 3000, \"Developer\", \"david@example.com\", \"987654321\")\n",
    "f2 = Funcionario(\"Eve\", 3500, \"Manager\")\n",
    "f3 = Funcionario(\"Frank\", 2500, \"Analyst\", telefone=\"112233445\")\n",
    "\n",
    "# Aumentando o salário dos funcionários\n",
    "f1.aumentar_salario(10)\n",
    "f2.aumentar_salario(15)\n",
    "f3.aumentar_salario(5)"
   ]
  },
  {
   "cell_type": "code",
   "execution_count": 26,
   "id": "c3a70bbc-3eb6-4c1f-bee4-2dfc12c25523",
   "metadata": {},
   "outputs": [
    {
     "ename": "SyntaxError",
     "evalue": "invalid syntax (1962889768.py, line 4)",
     "output_type": "error",
     "traceback": [
      "\u001b[1;36m  Cell \u001b[1;32mIn[26], line 4\u001b[1;36m\u001b[0m\n\u001b[1;33m    def ler_csv(\"C:\\Users\\emily\\Downloads\\Q3PYTHON.xlsx\"):\u001b[0m\n\u001b[1;37m                ^\u001b[0m\n\u001b[1;31mSyntaxError\u001b[0m\u001b[1;31m:\u001b[0m invalid syntax\n"
     ]
    }
   ],
   "source": [
    "# csv_module.py\n",
    "import csv\n",
    "\n",
    "def ler_csv(\"C:\\Users\\emily\\Downloads\\Q3PYTHON.xlsx\"):\n",
    "    with open(\"C:\\Users\\emily\\Downloads\\Q3PYTHON.xlsx\", newline='') as csvfile:\n",
    "        reader = csv.reader(csvfile)\n",
    "        return [row for row in reader]\n",
    "\n",
    "#main.py\n",
    "from csv_module import ler_csv\n",
    "\n",
    "dados = ler_csv(\"dados.csv\")\n",
    "for linha in dados:\n",
    "    print(linha)\n"
   ]
  },
  {
   "cell_type": "code",
   "execution_count": 27,
   "id": "b6b72ddc-d327-4760-9061-1a2545cd5473",
   "metadata": {},
   "outputs": [
    {
     "ename": "ModuleNotFoundError",
     "evalue": "No module named 'utils'",
     "output_type": "error",
     "traceback": [
      "\u001b[1;31m---------------------------------------------------------------------------\u001b[0m",
      "\u001b[1;31mModuleNotFoundError\u001b[0m                       Traceback (most recent call last)",
      "Cell \u001b[1;32mIn[27], line 19\u001b[0m\n\u001b[0;32m     16\u001b[0m         \u001b[38;5;28;01mreturn\u001b[39;00m n \u001b[38;5;241m*\u001b[39m fatorial(n \u001b[38;5;241m-\u001b[39m \u001b[38;5;241m1\u001b[39m)\n\u001b[0;32m     18\u001b[0m \u001b[38;5;66;03m# main.py\u001b[39;00m\n\u001b[1;32m---> 19\u001b[0m \u001b[38;5;28;01mfrom\u001b[39;00m \u001b[38;5;21;01mutils\u001b[39;00m \u001b[38;5;28;01mimport\u001b[39;00m strings, matematica\n\u001b[0;32m     21\u001b[0m \u001b[38;5;28mprint\u001b[39m(strings\u001b[38;5;241m.\u001b[39mcontar_vogais(\u001b[38;5;124m\"\u001b[39m\u001b[38;5;124mOlá Mundo\u001b[39m\u001b[38;5;124m\"\u001b[39m))\n\u001b[0;32m     22\u001b[0m \u001b[38;5;28mprint\u001b[39m(strings\u001b[38;5;241m.\u001b[39minverter_texto(\u001b[38;5;124m\"\u001b[39m\u001b[38;5;124mPython\u001b[39m\u001b[38;5;124m\"\u001b[39m))\n",
      "\u001b[1;31mModuleNotFoundError\u001b[0m: No module named 'utils'"
     ]
    }
   ],
   "source": [
    "# utils/strings.py\n",
    "def contar_vogais(texto):\n",
    "    return sum(1 for char in texto if char.lower() in 'aeiou')\n",
    "\n",
    "def inverter_texto(texto):\n",
    "    return texto[::-1]\n",
    "\n",
    "# utils/matematica.py\n",
    "def soma(a, b):\n",
    "    return a + b\n",
    "\n",
    "def fatorial(n):\n",
    "    if n == 0:\n",
    "        return 1\n",
    "    else:\n",
    "        return n * fatorial(n - 1)\n",
    "\n",
    "# main.py\n",
    "from utils import strings, matematica\n",
    "\n",
    "print(strings.contar_vogais(\"Olá Mundo\"))\n",
    "print(strings.inverter_texto(\"Python\"))\n",
    "\n",
    "print(matematica.soma(10, 5))\n",
    "print(matematica.fatorial(5))\n"
   ]
  },
  {
   "cell_type": "code",
   "execution_count": null,
   "id": "dad52031-28df-412b-a915-7e9d79e2d8ac",
   "metadata": {},
   "outputs": [],
   "source": []
  }
 ],
 "metadata": {
  "kernelspec": {
   "display_name": "Python 3 (ipykernel)",
   "language": "python",
   "name": "python3"
  },
  "language_info": {
   "codemirror_mode": {
    "name": "ipython",
    "version": 3
   },
   "file_extension": ".py",
   "mimetype": "text/x-python",
   "name": "python",
   "nbconvert_exporter": "python",
   "pygments_lexer": "ipython3",
   "version": "3.11.4"
  }
 },
 "nbformat": 4,
 "nbformat_minor": 5
}
